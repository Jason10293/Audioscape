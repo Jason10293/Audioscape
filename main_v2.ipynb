{
 "cells": [
  {
   "cell_type": "code",
   "execution_count": 5,
   "metadata": {},
   "outputs": [],
   "source": [
    "import spotipy\n",
    "from spotipy.oauth2 import SpotifyOAuth\n",
    "from Secrets import CLIENT_ID, CLIENT_SECRET, REDIRECT_URL\n",
    "import pandas as pd\n",
    "import numpy as np\n",
    "from sklearn.cluster import KMeans\n",
    "import matplotlib.pyplot as plt"
   ]
  },
  {
   "cell_type": "code",
   "execution_count": 6,
   "metadata": {},
   "outputs": [],
   "source": [
    "sp = spotipy.Spotify(auth_manager=SpotifyOAuth(client_id=CLIENT_ID,\n",
    "                                               client_secret=CLIENT_SECRET,\n",
    "                                               redirect_uri=REDIRECT_URL,\n",
    "                                               scope=\"user-library-read\"))\n",
    "\n",
    "df = pd.read_csv('./dataset.csv')\n"
   ]
  },
  {
   "cell_type": "code",
   "execution_count": 34,
   "metadata": {},
   "outputs": [],
   "source": [
    "#6meRpNHvKC1VcBl5MIbVxo - hehe\n",
    "#1Ob3QykC4dzf3rQwWxE9LV - study\n",
    "\n",
    "\n",
    "playlist_id = '6meRpNHvKC1VcBl5MIbVxo'\n",
    "playlist_length = sp.playlist_items(playlist_id)['total']\n",
    "\n",
    "track_ids = []\n",
    "for i in range(playlist_length // 100 + 1):\n",
    "    playlist = sp.playlist_tracks(playlist_id, market = 'CAN',fields='items', limit=100, offset = i * 100 )\n",
    "    for track in playlist['items']:\n",
    "        if track['track'] is not None and track['track']['id'] is not None:\n",
    "            track_ids.append(track['track']['id'])\n"
   ]
  },
  {
   "cell_type": "code",
   "execution_count": 76,
   "metadata": {},
   "outputs": [],
   "source": [
    "def get_artist_genre(artist_name):\n",
    "    results = sp.search(q=f'artist:\"{artist_name}\"', type='artist')\n",
    "    items = results['artists']['items']\n",
    "\n",
    "    # Filter for exact matches\n",
    "    exact_matches = [artist for artist in items if artist['name'].lower() == artist_name.lower()]\n",
    "\n",
    "    for artist in exact_matches:\n",
    "        if artist['genres']:\n",
    "            return artist['genres'][0]"
   ]
  },
  {
   "cell_type": "code",
   "execution_count": 84,
   "metadata": {},
   "outputs": [
    {
     "name": "stderr",
     "output_type": "stream",
     "text": [
      "HTTP Error for GET to https://api.spotify.com/v1/tracks/?ids=3F5CgOj3wFlRv51JsHbxhe,2BcMwX1MPV6ZHP4tUT9uq6,3CA9pLiwRIGtUBiMjbZmRw,2tUL6dZf1mywCj5WvCPZw6,6c5wQFfJApRMooKE7UQnlH,4Q34FP1AT7GEl9oLgNtiWj,0WtDGnWL2KrMCk0mI1Gpwz,4ckuS4Nj4FZ7i3Def3Br8W,2t8yVaLvJ0RenpXUIAC52d,65OVbaJR5O1RmwOQx0875b,6HJ34Zyw6bg8yGm28AxLXf,5ry2OE6R2zPQFDO85XkgRb,4vzJrkfHbCGaodPA5RY5BV,1ITpqT1kDATCtMBwOK7sYn,0w6webWdhjRKdqJ3DeGgM1,5FkoSXiJPKTNyYgALRJFhD,40iJIUlhi6renaREYGeIDS,6MF4tRr5lU8qok8IKaFOBE,3QFInJAm9eyaho5vBzxInN,577YBGuskWkVDCxZrLRB4v,11kDth1aKUEUMq9r1pqyds,0TlLq3lA83rQOYtrqBqSct,3qN5qMTKyEEmiTZD38BNTT,1dUHF4RyMmMTveJ0Rby6Xm,2zxEc1GCSCxbHIXTfhraRC,2Grb4G6t9VIqo6moKUloom,3mDFLytDotXo2p0rvfGbkA,1bDbXMyjaUIooNwFE9wn0N,34tz0eDhGuFErIuW3q4mPX,7sO5G9EABYOXQKNPNiE9NR,6nO3tr47nr2P7f3hXb8JIo,6OaVWaGfhXn70ZJfdVcabn,02rdXe0KhMe8p6ZHzYtuw0,420ZJ2hWsQv7i8IuER1e9e,4F6yN5FsFW10Ucx7cLCzBh,6pcywuOeGGWeOQzdUyti6k,2BJSMvOGABRxokHKB0OI8i,6Hmc5Afutf4hcrjnBYNidS,7rC5Pl8rQSX4myONQHYPBK,3ESSGgWzRf1xvP7G5hHMhB,4KW1lqgSr8TKrvBII0Brf8,5QO79kh1waicV47BqGRL3g,09mEdoA6zrmBPgTEN5qXmN,7MXVkk9YMctZqd1Srtv4MB,0VjIjW4GlUZAMYd2vXMi3b,6LNoArVBBVZzUTUiAX2aKO,4G9K8NVdInl16lnn5EbJLZ,1p0rEzrK7YtdRZVtiyV7RN,0OoNzMdPSgbkM5MkcuEZfm,2dHHgzDwk4BJdRwy9uXhTO,1pacwLXyRO47ka0v6LTIiY,2KLwPaRDOB87XOYAT2fgxh,6eT7xZZlB2mwyzJ2sUKG6w,7xQAfvXzm3AkraOtGPWIZg,4F7A0DXBrmUAkp32uenhZt,1Is8hGpkGMiePASAxBluxM,2Yt4SXIgmoaPZHGdRafp4P,27a1mYSG5tYg7dmEjWBcmL,2cYqizR4lgvp4Qu6IQ3qGN,4R67rQNSbbsR4TdUVOIdez,5u6vkDnOyaf8LsteDAj2ub,6LyAwkJsHlW7RQ8S1cYAtM,0AluA5RNsa4Cx6XRhf2hWZ,2wOXxtHZgRkkrkEbKLzzqs,1UyLFPOIG7E1OfamPQLOfD,4IO8X9W69dIQe0EC5ALXhq,45pUWUeEWGoSdH6UF162G8,2ZL7WZcjuYKi1KUDtp4kCC,1udwFobQ1JoOdWPQrp2b6u,7wBJfHzpfI3032CSD7CE2m,2QgfDF0fQ4sskDthP8MG5w,1qMMYpVatbRITKCfq1gasi,6SPgp2qK3fb4wPX1SldrNf,5QrmygpdyE3IbrZzJsZ4uj,1Scp8ar1dnJOaSVEMIiB80,5LKIZ4UTKebSE5VFbLSQnr,67LB1vZuG114LqRN8h8bQ2,5nujrmhLynf4yMoMtj8AQF,7foypmc7KZyU716Yv63BPe,5bJ1DrEM4hNCafcDd1oxHx,4WuOWVnAqvEQxgSRrspBgt,2Hh3ETdQKrmSI3QS0hme7g,7g7raxdQpiLZT7aOlib4S1,4kfeRwpq5KUaqTkgi4TbDF,3Uoy2lrZdhocMWO0jIdjAp,6QeUzTuBoasiii8nevDciq,6wWaVoUOzLQJHd3bWAUpdZ,1fvCggAYrW0VtCljtqv4h2,2xLMifQCjDGFmkHkpNLD9h,4iYRa2btalAzPZoSYfROqF,1D2L6MefbXon28PzIk9I3r,0AyA2lHB4YnQUNa8Y6NNjm,61FfbHfk4qT8ZzNA5dqN9j,5MPPttjfGap2C6j6eKcO6J,0e7ipj03S05BNilyu5bRzt,6HZILIRieu8S0iqY8kIKhj,2xB46Bj9HZ4cr058yN4Pla,2QpGZOhTCHHiKmpSO9FW4h,36ux3YuUsGTWPT8fXclS45,19a3JfW8BQwqHWUMbcqSx8,37F0uwRSrdzkBiuj0D5UHI,2Ch7LmS7r2Gy2kc64wv3Bz,7KA4W4McWYRpgf0fWsJZWB,3s7MCdXyWmwjdcWh7GWXas,65TggCitjPK0sUXtwgOkN9,01IQ4aQgOf0Kkq3a273hmO,0FWAIRd9Uz5uNek7cALYNC,22agj1ppHejR41cUyf7k6v,1D3z6HTiQsNmZxjl7F7eoG,79XrkTOfV1AqySNjVlygpW,3drdWsJKiVCSQ2gKhd9BDT,472sPrS8UznsEnzi9bFrBo,2LMkwUfqC6S6s6qDVlEuzV,1nX9KhK3Fff27SnrIor2Yb,3WcC6NH9J77xPEvj1SOL7z,28qA8y1sz0FTuSapsCxNOG,2Zy7XVdxyZQB8xp5xbpJdl,3azJifCSqg9fRij2yKIbWz,0s9xZDmDtrZKvgXVNJl5VS,1au2UduxcvHfa0fZS3Szci,4iz9lGMjU1lXS51oPmUmTe,5TRPicyLGbAF2LGBFbHGvO,5wG3HvLhF6Y5KTGlK0IW3J,6w9GrSUaQQIaMBYtabge7p,1EaKU4dMbesXXd3BrLCtYG,08F16baYbciTva9P4BvpiI,2g6tReTlM2Akp41g0HaeXN,6NMtzpDQBTOfJwMzgMX0zl,1nbYiPgDJ4T3t46Is5Zc26,2qzW5AK8ldKUOWUETwAkZY,0kmxWw7KjktV4V1ZpbOeru,2FDTHlrBguDzQkp7PVj16Q,2cnKST6T9qUo2i907lm8zX,6cZH4rX1KTt1aJ3Ql6Ynja,733c1CWmIGymoQXdp7Us88,2ZRo7axmMPeSVUvDbGkJah,2or3FdRKWK4RcgncaU09p3,2dJ4rGtsOHOgvTQawsCRtg,3dtBVBClM5ms0qCBBrqpUb,6CfrYuD3YRDYdYvH9jNtXY,343YBumqHu19cGoGARUTsd,67nepsnrcZkowTxMWigSbb,6wsqVwoiVH2kde4k4KKAFU,0lodMO0qK83vfPiiD7FMEt,0bkV1iQHSxBaksUqgEkcbc,1PH2MDbcBAU094DlgTIND1,1EJIcDYXwSqipW5dFe4uJz,0MjZNhlOfIxZz34uwCqHv5,76gcXhY3Zv6wW0BTe9nHJo,1o0kWPueYo94LIjPYOE5Nf,19px0LYNwmvyh0QDPE9qHu,0CBQ0m3mufWH75LTYB3s6h,4ea9w8c4ROqiZpJVhfBA3m,1pfwOQKJsRRBf6NdYO4Qog,78X9D3v7OarDPNdTPUV4CQ,1UGD3lW3tDmgZfAVDh6w7r,29YW2xXlo6Pc6M0SBTCXYN,2HALQBSAvpw1oCzL5QsrT2,34oWbFBfGEElvgO0a5c9V4,7dJYggqjKo71KI9sLzqCs8,1DAibqbopEYULPEtE8WHTE,7aqfrAY2p9BUSiupwk3svU,156LzfvMNKuXuiot4uzhGD,7kp6XhIxrvNb8BgTwLjaEx,11BbPUv7NlzlcbY7AmHHKy,5WnfnSpuNEGXyEt78PBA6d,1WIZiOuNO3woKfdlSK2gNn,3CDVMejYHnB1SkEEx0T1N4,5WoaF1B5XIEnWfmb5NZikf,4yLyVdEqV790aIXyGif85v,52eIcoLUM25zbQupAZYoFh,0shSP8DgseLewHgAiMC4UL,2yUzr8Sr6ldG8vmHhZwTnz,3KixNgUEaDtrKJVzdqjU5q,7DHNcoR73yUYCSn6PqBgkH,6rjuKpPydT2SxN15TZpV7r,00n83h3zn2IrySO4Q4aTrG,6wyhUr4Xw8z5uSy0AhoZfU,6tsVFchreYTt2OPXSOoFCX,4lUmnwRybYH7mMzf16xB0y,62nb5YUYUqtYJhVPwRhCke,1EXRmdtTA2IEnYGiuw9plD,5LghBGmNUUwI2BvX2boIdK,4cEqoGTqPRZy76Yl3ymj3V,6vG3Zv9VEA6YbJPJ6ar5Y7,42k9e2hgl98IdgkXLg4pxs,7szuecWAPwGoV1e5vGu8tl,0tdCy39PgWN8LFWu34ORn3,0hKtu53OlIFXVuYkZwcn3o,3OxL6MuctgZp1e0zxoAZhH,1yfKakY4rvI17lk20ekuRA,2cH8wHImerFokgmhjyhCTU,1GeNui6m825V8jP4uKiIaH,1Py8c3dkLF0YczcAyBFBEM,4W9XGjEUVG9junR70FOLii,1IIKrJVP1C9N7iPtG6eOsK,4cg1yakyRSIOjxKM2I7J1q,2i2qDe3dnTl6maUE31FO7c,5lFDtgWsjRJu8fPOAyJIAK,3WRIaWsws011vHMd9uzPjG with Params: {'market': None} returned 414 due to None\n"
     ]
    },
    {
     "ename": "SpotifyException",
     "evalue": "http status: 414, code:-1 - https://api.spotify.com/v1/tracks/?ids=3F5CgOj3wFlRv51JsHbxhe,2BcMwX1MPV6ZHP4tUT9uq6,3CA9pLiwRIGtUBiMjbZmRw,2tUL6dZf1mywCj5WvCPZw6,6c5wQFfJApRMooKE7UQnlH,4Q34FP1AT7GEl9oLgNtiWj,0WtDGnWL2KrMCk0mI1Gpwz,4ckuS4Nj4FZ7i3Def3Br8W,2t8yVaLvJ0RenpXUIAC52d,65OVbaJR5O1RmwOQx0875b,6HJ34Zyw6bg8yGm28AxLXf,5ry2OE6R2zPQFDO85XkgRb,4vzJrkfHbCGaodPA5RY5BV,1ITpqT1kDATCtMBwOK7sYn,0w6webWdhjRKdqJ3DeGgM1,5FkoSXiJPKTNyYgALRJFhD,40iJIUlhi6renaREYGeIDS,6MF4tRr5lU8qok8IKaFOBE,3QFInJAm9eyaho5vBzxInN,577YBGuskWkVDCxZrLRB4v,11kDth1aKUEUMq9r1pqyds,0TlLq3lA83rQOYtrqBqSct,3qN5qMTKyEEmiTZD38BNTT,1dUHF4RyMmMTveJ0Rby6Xm,2zxEc1GCSCxbHIXTfhraRC,2Grb4G6t9VIqo6moKUloom,3mDFLytDotXo2p0rvfGbkA,1bDbXMyjaUIooNwFE9wn0N,34tz0eDhGuFErIuW3q4mPX,7sO5G9EABYOXQKNPNiE9NR,6nO3tr47nr2P7f3hXb8JIo,6OaVWaGfhXn70ZJfdVcabn,02rdXe0KhMe8p6ZHzYtuw0,420ZJ2hWsQv7i8IuER1e9e,4F6yN5FsFW10Ucx7cLCzBh,6pcywuOeGGWeOQzdUyti6k,2BJSMvOGABRxokHKB0OI8i,6Hmc5Afutf4hcrjnBYNidS,7rC5Pl8rQSX4myONQHYPBK,3ESSGgWzRf1xvP7G5hHMhB,4KW1lqgSr8TKrvBII0Brf8,5QO79kh1waicV47BqGRL3g,09mEdoA6zrmBPgTEN5qXmN,7MXVkk9YMctZqd1Srtv4MB,0VjIjW4GlUZAMYd2vXMi3b,6LNoArVBBVZzUTUiAX2aKO,4G9K8NVdInl16lnn5EbJLZ,1p0rEzrK7YtdRZVtiyV7RN,0OoNzMdPSgbkM5MkcuEZfm,2dHHgzDwk4BJdRwy9uXhTO,1pacwLXyRO47ka0v6LTIiY,2KLwPaRDOB87XOYAT2fgxh,6eT7xZZlB2mwyzJ2sUKG6w,7xQAfvXzm3AkraOtGPWIZg,4F7A0DXBrmUAkp32uenhZt,1Is8hGpkGMiePASAxBluxM,2Yt4SXIgmoaPZHGdRafp4P,27a1mYSG5tYg7dmEjWBcmL,2cYqizR4lgvp4Qu6IQ3qGN,4R67rQNSbbsR4TdUVOIdez,5u6vkDnOyaf8LsteDAj2ub,6LyAwkJsHlW7RQ8S1cYAtM,0AluA5RNsa4Cx6XRhf2hWZ,2wOXxtHZgRkkrkEbKLzzqs,1UyLFPOIG7E1OfamPQLOfD,4IO8X9W69dIQe0EC5ALXhq,45pUWUeEWGoSdH6UF162G8,2ZL7WZcjuYKi1KUDtp4kCC,1udwFobQ1JoOdWPQrp2b6u,7wBJfHzpfI3032CSD7CE2m,2QgfDF0fQ4sskDthP8MG5w,1qMMYpVatbRITKCfq1gasi,6SPgp2qK3fb4wPX1SldrNf,5QrmygpdyE3IbrZzJsZ4uj,1Scp8ar1dnJOaSVEMIiB80,5LKIZ4UTKebSE5VFbLSQnr,67LB1vZuG114LqRN8h8bQ2,5nujrmhLynf4yMoMtj8AQF,7foypmc7KZyU716Yv63BPe,5bJ1DrEM4hNCafcDd1oxHx,4WuOWVnAqvEQxgSRrspBgt,2Hh3ETdQKrmSI3QS0hme7g,7g7raxdQpiLZT7aOlib4S1,4kfeRwpq5KUaqTkgi4TbDF,3Uoy2lrZdhocMWO0jIdjAp,6QeUzTuBoasiii8nevDciq,6wWaVoUOzLQJHd3bWAUpdZ,1fvCggAYrW0VtCljtqv4h2,2xLMifQCjDGFmkHkpNLD9h,4iYRa2btalAzPZoSYfROqF,1D2L6MefbXon28PzIk9I3r,0AyA2lHB4YnQUNa8Y6NNjm,61FfbHfk4qT8ZzNA5dqN9j,5MPPttjfGap2C6j6eKcO6J,0e7ipj03S05BNilyu5bRzt,6HZILIRieu8S0iqY8kIKhj,2xB46Bj9HZ4cr058yN4Pla,2QpGZOhTCHHiKmpSO9FW4h,36ux3YuUsGTWPT8fXclS45,19a3JfW8BQwqHWUMbcqSx8,37F0uwRSrdzkBiuj0D5UHI,2Ch7LmS7r2Gy2kc64wv3Bz,7KA4W4McWYRpgf0fWsJZWB,3s7MCdXyWmwjdcWh7GWXas,65TggCitjPK0sUXtwgOkN9,01IQ4aQgOf0Kkq3a273hmO,0FWAIRd9Uz5uNek7cALYNC,22agj1ppHejR41cUyf7k6v,1D3z6HTiQsNmZxjl7F7eoG,79XrkTOfV1AqySNjVlygpW,3drdWsJKiVCSQ2gKhd9BDT,472sPrS8UznsEnzi9bFrBo,2LMkwUfqC6S6s6qDVlEuzV,1nX9KhK3Fff27SnrIor2Yb,3WcC6NH9J77xPEvj1SOL7z,28qA8y1sz0FTuSapsCxNOG,2Zy7XVdxyZQB8xp5xbpJdl,3azJifCSqg9fRij2yKIbWz,0s9xZDmDtrZKvgXVNJl5VS,1au2UduxcvHfa0fZS3Szci,4iz9lGMjU1lXS51oPmUmTe,5TRPicyLGbAF2LGBFbHGvO,5wG3HvLhF6Y5KTGlK0IW3J,6w9GrSUaQQIaMBYtabge7p,1EaKU4dMbesXXd3BrLCtYG,08F16baYbciTva9P4BvpiI,2g6tReTlM2Akp41g0HaeXN,6NMtzpDQBTOfJwMzgMX0zl,1nbYiPgDJ4T3t46Is5Zc26,2qzW5AK8ldKUOWUETwAkZY,0kmxWw7KjktV4V1ZpbOeru,2FDTHlrBguDzQkp7PVj16Q,2cnKST6T9qUo2i907lm8zX,6cZH4rX1KTt1aJ3Ql6Ynja,733c1CWmIGymoQXdp7Us88,2ZRo7axmMPeSVUvDbGkJah,2or3FdRKWK4RcgncaU09p3,2dJ4rGtsOHOgvTQawsCRtg,3dtBVBClM5ms0qCBBrqpUb,6CfrYuD3YRDYdYvH9jNtXY,343YBumqHu19cGoGARUTsd,67nepsnrcZkowTxMWigSbb,6wsqVwoiVH2kde4k4KKAFU,0lodMO0qK83vfPiiD7FMEt,0bkV1iQHSxBaksUqgEkcbc,1PH2MDbcBAU094DlgTIND1,1EJIcDYXwSqipW5dFe4uJz,0MjZNhlOfIxZz34uwCqHv5,76gcXhY3Zv6wW0BTe9nHJo,1o0kWPueYo94LIjPYOE5Nf,19px0LYNwmvyh0QDPE9qHu,0CBQ0m3mufWH75LTYB3s6h,4ea9w8c4ROqiZpJVhfBA3m,1pfwOQKJsRRBf6NdYO4Qog,78X9D3v7OarDPNdTPUV4CQ,1UGD3lW3tDmgZfAVDh6w7r,29YW2xXlo6Pc6M0SBTCXYN,2HALQBSAvpw1oCzL5QsrT2,34oWbFBfGEElvgO0a5c9V4,7dJYggqjKo71KI9sLzqCs8,1DAibqbopEYULPEtE8WHTE,7aqfrAY2p9BUSiupwk3svU,156LzfvMNKuXuiot4uzhGD,7kp6XhIxrvNb8BgTwLjaEx,11BbPUv7NlzlcbY7AmHHKy,5WnfnSpuNEGXyEt78PBA6d,1WIZiOuNO3woKfdlSK2gNn,3CDVMejYHnB1SkEEx0T1N4,5WoaF1B5XIEnWfmb5NZikf,4yLyVdEqV790aIXyGif85v,52eIcoLUM25zbQupAZYoFh,0shSP8DgseLewHgAiMC4UL,2yUzr8Sr6ldG8vmHhZwTnz,3KixNgUEaDtrKJVzdqjU5q,7DHNcoR73yUYCSn6PqBgkH,6rjuKpPydT2SxN15TZpV7r,00n83h3zn2IrySO4Q4aTrG,6wyhUr4Xw8z5uSy0AhoZfU,6tsVFchreYTt2OPXSOoFCX,4lUmnwRybYH7mMzf16xB0y,62nb5YUYUqtYJhVPwRhCke,1EXRmdtTA2IEnYGiuw9plD,5LghBGmNUUwI2BvX2boIdK,4cEqoGTqPRZy76Yl3ymj3V,6vG3Zv9VEA6YbJPJ6ar5Y7,42k9e2hgl98IdgkXLg4pxs,7szuecWAPwGoV1e5vGu8tl,0tdCy39PgWN8LFWu34ORn3,0hKtu53OlIFXVuYkZwcn3o,3OxL6MuctgZp1e0zxoAZhH,1yfKakY4rvI17lk20ekuRA,2cH8wHImerFokgmhjyhCTU,1GeNui6m825V8jP4uKiIaH,1Py8c3dkLF0YczcAyBFBEM,4W9XGjEUVG9junR70FOLii,1IIKrJVP1C9N7iPtG6eOsK,4cg1yakyRSIOjxKM2I7J1q,2i2qDe3dnTl6maUE31FO7c,5lFDtgWsjRJu8fPOAyJIAK,3WRIaWsws011vHMd9uzPjG:\n None, reason: None",
     "output_type": "error",
     "traceback": [
      "\u001b[1;31m---------------------------------------------------------------------------\u001b[0m",
      "\u001b[1;31mHTTPError\u001b[0m                                 Traceback (most recent call last)",
      "File \u001b[1;32m~\\AppData\\Local\\Packages\\PythonSoftwareFoundation.Python.3.11_qbz5n2kfra8p0\\LocalCache\\local-packages\\Python311\\site-packages\\spotipy\\client.py:275\u001b[0m, in \u001b[0;36mSpotify._internal_call\u001b[1;34m(self, method, url, payload, params)\u001b[0m\n\u001b[0;32m    270\u001b[0m response \u001b[38;5;241m=\u001b[39m \u001b[38;5;28mself\u001b[39m\u001b[38;5;241m.\u001b[39m_session\u001b[38;5;241m.\u001b[39mrequest(\n\u001b[0;32m    271\u001b[0m     method, url, headers\u001b[38;5;241m=\u001b[39mheaders, proxies\u001b[38;5;241m=\u001b[39m\u001b[38;5;28mself\u001b[39m\u001b[38;5;241m.\u001b[39mproxies,\n\u001b[0;32m    272\u001b[0m     timeout\u001b[38;5;241m=\u001b[39m\u001b[38;5;28mself\u001b[39m\u001b[38;5;241m.\u001b[39mrequests_timeout, \u001b[38;5;241m*\u001b[39m\u001b[38;5;241m*\u001b[39margs\n\u001b[0;32m    273\u001b[0m )\n\u001b[1;32m--> 275\u001b[0m \u001b[43mresponse\u001b[49m\u001b[38;5;241;43m.\u001b[39;49m\u001b[43mraise_for_status\u001b[49m\u001b[43m(\u001b[49m\u001b[43m)\u001b[49m\n\u001b[0;32m    276\u001b[0m results \u001b[38;5;241m=\u001b[39m response\u001b[38;5;241m.\u001b[39mjson()\n",
      "File \u001b[1;32m~\\AppData\\Local\\Packages\\PythonSoftwareFoundation.Python.3.11_qbz5n2kfra8p0\\LocalCache\\local-packages\\Python311\\site-packages\\requests\\models.py:1024\u001b[0m, in \u001b[0;36mResponse.raise_for_status\u001b[1;34m(self)\u001b[0m\n\u001b[0;32m   1023\u001b[0m \u001b[38;5;28;01mif\u001b[39;00m http_error_msg:\n\u001b[1;32m-> 1024\u001b[0m     \u001b[38;5;28;01mraise\u001b[39;00m HTTPError(http_error_msg, response\u001b[38;5;241m=\u001b[39m\u001b[38;5;28mself\u001b[39m)\n",
      "\u001b[1;31mHTTPError\u001b[0m: 414 Client Error: Request-URI Too Large for url: https://api.spotify.com/v1/tracks/?ids=3F5CgOj3wFlRv51JsHbxhe,2BcMwX1MPV6ZHP4tUT9uq6,3CA9pLiwRIGtUBiMjbZmRw,2tUL6dZf1mywCj5WvCPZw6,6c5wQFfJApRMooKE7UQnlH,4Q34FP1AT7GEl9oLgNtiWj,0WtDGnWL2KrMCk0mI1Gpwz,4ckuS4Nj4FZ7i3Def3Br8W,2t8yVaLvJ0RenpXUIAC52d,65OVbaJR5O1RmwOQx0875b,6HJ34Zyw6bg8yGm28AxLXf,5ry2OE6R2zPQFDO85XkgRb,4vzJrkfHbCGaodPA5RY5BV,1ITpqT1kDATCtMBwOK7sYn,0w6webWdhjRKdqJ3DeGgM1,5FkoSXiJPKTNyYgALRJFhD,40iJIUlhi6renaREYGeIDS,6MF4tRr5lU8qok8IKaFOBE,3QFInJAm9eyaho5vBzxInN,577YBGuskWkVDCxZrLRB4v,11kDth1aKUEUMq9r1pqyds,0TlLq3lA83rQOYtrqBqSct,3qN5qMTKyEEmiTZD38BNTT,1dUHF4RyMmMTveJ0Rby6Xm,2zxEc1GCSCxbHIXTfhraRC,2Grb4G6t9VIqo6moKUloom,3mDFLytDotXo2p0rvfGbkA,1bDbXMyjaUIooNwFE9wn0N,34tz0eDhGuFErIuW3q4mPX,7sO5G9EABYOXQKNPNiE9NR,6nO3tr47nr2P7f3hXb8JIo,6OaVWaGfhXn70ZJfdVcabn,02rdXe0KhMe8p6ZHzYtuw0,420ZJ2hWsQv7i8IuER1e9e,4F6yN5FsFW10Ucx7cLCzBh,6pcywuOeGGWeOQzdUyti6k,2BJSMvOGABRxokHKB0OI8i,6Hmc5Afutf4hcrjnBYNidS,7rC5Pl8rQSX4myONQHYPBK,3ESSGgWzRf1xvP7G5hHMhB,4KW1lqgSr8TKrvBII0Brf8,5QO79kh1waicV47BqGRL3g,09mEdoA6zrmBPgTEN5qXmN,7MXVkk9YMctZqd1Srtv4MB,0VjIjW4GlUZAMYd2vXMi3b,6LNoArVBBVZzUTUiAX2aKO,4G9K8NVdInl16lnn5EbJLZ,1p0rEzrK7YtdRZVtiyV7RN,0OoNzMdPSgbkM5MkcuEZfm,2dHHgzDwk4BJdRwy9uXhTO,1pacwLXyRO47ka0v6LTIiY,2KLwPaRDOB87XOYAT2fgxh,6eT7xZZlB2mwyzJ2sUKG6w,7xQAfvXzm3AkraOtGPWIZg,4F7A0DXBrmUAkp32uenhZt,1Is8hGpkGMiePASAxBluxM,2Yt4SXIgmoaPZHGdRafp4P,27a1mYSG5tYg7dmEjWBcmL,2cYqizR4lgvp4Qu6IQ3qGN,4R67rQNSbbsR4TdUVOIdez,5u6vkDnOyaf8LsteDAj2ub,6LyAwkJsHlW7RQ8S1cYAtM,0AluA5RNsa4Cx6XRhf2hWZ,2wOXxtHZgRkkrkEbKLzzqs,1UyLFPOIG7E1OfamPQLOfD,4IO8X9W69dIQe0EC5ALXhq,45pUWUeEWGoSdH6UF162G8,2ZL7WZcjuYKi1KUDtp4kCC,1udwFobQ1JoOdWPQrp2b6u,7wBJfHzpfI3032CSD7CE2m,2QgfDF0fQ4sskDthP8MG5w,1qMMYpVatbRITKCfq1gasi,6SPgp2qK3fb4wPX1SldrNf,5QrmygpdyE3IbrZzJsZ4uj,1Scp8ar1dnJOaSVEMIiB80,5LKIZ4UTKebSE5VFbLSQnr,67LB1vZuG114LqRN8h8bQ2,5nujrmhLynf4yMoMtj8AQF,7foypmc7KZyU716Yv63BPe,5bJ1DrEM4hNCafcDd1oxHx,4WuOWVnAqvEQxgSRrspBgt,2Hh3ETdQKrmSI3QS0hme7g,7g7raxdQpiLZT7aOlib4S1,4kfeRwpq5KUaqTkgi4TbDF,3Uoy2lrZdhocMWO0jIdjAp,6QeUzTuBoasiii8nevDciq,6wWaVoUOzLQJHd3bWAUpdZ,1fvCggAYrW0VtCljtqv4h2,2xLMifQCjDGFmkHkpNLD9h,4iYRa2btalAzPZoSYfROqF,1D2L6MefbXon28PzIk9I3r,0AyA2lHB4YnQUNa8Y6NNjm,61FfbHfk4qT8ZzNA5dqN9j,5MPPttjfGap2C6j6eKcO6J,0e7ipj03S05BNilyu5bRzt,6HZILIRieu8S0iqY8kIKhj,2xB46Bj9HZ4cr058yN4Pla,2QpGZOhTCHHiKmpSO9FW4h,36ux3YuUsGTWPT8fXclS45,19a3JfW8BQwqHWUMbcqSx8,37F0uwRSrdzkBiuj0D5UHI,2Ch7LmS7r2Gy2kc64wv3Bz,7KA4W4McWYRpgf0fWsJZWB,3s7MCdXyWmwjdcWh7GWXas,65TggCitjPK0sUXtwgOkN9,01IQ4aQgOf0Kkq3a273hmO,0FWAIRd9Uz5uNek7cALYNC,22agj1ppHejR41cUyf7k6v,1D3z6HTiQsNmZxjl7F7eoG,79XrkTOfV1AqySNjVlygpW,3drdWsJKiVCSQ2gKhd9BDT,472sPrS8UznsEnzi9bFrBo,2LMkwUfqC6S6s6qDVlEuzV,1nX9KhK3Fff27SnrIor2Yb,3WcC6NH9J77xPEvj1SOL7z,28qA8y1sz0FTuSapsCxNOG,2Zy7XVdxyZQB8xp5xbpJdl,3azJifCSqg9fRij2yKIbWz,0s9xZDmDtrZKvgXVNJl5VS,1au2UduxcvHfa0fZS3Szci,4iz9lGMjU1lXS51oPmUmTe,5TRPicyLGbAF2LGBFbHGvO,5wG3HvLhF6Y5KTGlK0IW3J,6w9GrSUaQQIaMBYtabge7p,1EaKU4dMbesXXd3BrLCtYG,08F16baYbciTva9P4BvpiI,2g6tReTlM2Akp41g0HaeXN,6NMtzpDQBTOfJwMzgMX0zl,1nbYiPgDJ4T3t46Is5Zc26,2qzW5AK8ldKUOWUETwAkZY,0kmxWw7KjktV4V1ZpbOeru,2FDTHlrBguDzQkp7PVj16Q,2cnKST6T9qUo2i907lm8zX,6cZH4rX1KTt1aJ3Ql6Ynja,733c1CWmIGymoQXdp7Us88,2ZRo7axmMPeSVUvDbGkJah,2or3FdRKWK4RcgncaU09p3,2dJ4rGtsOHOgvTQawsCRtg,3dtBVBClM5ms0qCBBrqpUb,6CfrYuD3YRDYdYvH9jNtXY,343YBumqHu19cGoGARUTsd,67nepsnrcZkowTxMWigSbb,6wsqVwoiVH2kde4k4KKAFU,0lodMO0qK83vfPiiD7FMEt,0bkV1iQHSxBaksUqgEkcbc,1PH2MDbcBAU094DlgTIND1,1EJIcDYXwSqipW5dFe4uJz,0MjZNhlOfIxZz34uwCqHv5,76gcXhY3Zv6wW0BTe9nHJo,1o0kWPueYo94LIjPYOE5Nf,19px0LYNwmvyh0QDPE9qHu,0CBQ0m3mufWH75LTYB3s6h,4ea9w8c4ROqiZpJVhfBA3m,1pfwOQKJsRRBf6NdYO4Qog,78X9D3v7OarDPNdTPUV4CQ,1UGD3lW3tDmgZfAVDh6w7r,29YW2xXlo6Pc6M0SBTCXYN,2HALQBSAvpw1oCzL5QsrT2,34oWbFBfGEElvgO0a5c9V4,7dJYggqjKo71KI9sLzqCs8,1DAibqbopEYULPEtE8WHTE,7aqfrAY2p9BUSiupwk3svU,156LzfvMNKuXuiot4uzhGD,7kp6XhIxrvNb8BgTwLjaEx,11BbPUv7NlzlcbY7AmHHKy,5WnfnSpuNEGXyEt78PBA6d,1WIZiOuNO3woKfdlSK2gNn,3CDVMejYHnB1SkEEx0T1N4,5WoaF1B5XIEnWfmb5NZikf,4yLyVdEqV790aIXyGif85v,52eIcoLUM25zbQupAZYoFh,0shSP8DgseLewHgAiMC4UL,2yUzr8Sr6ldG8vmHhZwTnz,3KixNgUEaDtrKJVzdqjU5q,7DHNcoR73yUYCSn6PqBgkH,6rjuKpPydT2SxN15TZpV7r,00n83h3zn2IrySO4Q4aTrG,6wyhUr4Xw8z5uSy0AhoZfU,6tsVFchreYTt2OPXSOoFCX,4lUmnwRybYH7mMzf16xB0y,62nb5YUYUqtYJhVPwRhCke,1EXRmdtTA2IEnYGiuw9plD,5LghBGmNUUwI2BvX2boIdK,4cEqoGTqPRZy76Yl3ymj3V,6vG3Zv9VEA6YbJPJ6ar5Y7,42k9e2hgl98IdgkXLg4pxs,7szuecWAPwGoV1e5vGu8tl,0tdCy39PgWN8LFWu34ORn3,0hKtu53OlIFXVuYkZwcn3o,3OxL6MuctgZp1e0zxoAZhH,1yfKakY4rvI17lk20ekuRA,2cH8wHImerFokgmhjyhCTU,1GeNui6m825V8jP4uKiIaH,1Py8c3dkLF0YczcAyBFBEM,4W9XGjEUVG9junR70FOLii,1IIKrJVP1C9N7iPtG6eOsK,4cg1yakyRSIOjxKM2I7J1q,2i2qDe3dnTl6maUE31FO7c,5lFDtgWsjRJu8fPOAyJIAK,3WRIaWsws011vHMd9uzPjG",
      "\nDuring handling of the above exception, another exception occurred:\n",
      "\u001b[1;31mSpotifyException\u001b[0m                          Traceback (most recent call last)",
      "Cell \u001b[1;32mIn[84], line 5\u001b[0m\n\u001b[0;32m      3\u001b[0m \u001b[38;5;28;01mfor\u001b[39;00m \u001b[38;5;28mid\u001b[39m \u001b[38;5;129;01min\u001b[39;00m track_ids:\n\u001b[0;32m      4\u001b[0m     \u001b[38;5;28;01mif\u001b[39;00m \u001b[38;5;28mid\u001b[39m \u001b[38;5;129;01mnot\u001b[39;00m \u001b[38;5;129;01min\u001b[39;00m df[\u001b[38;5;124m'\u001b[39m\u001b[38;5;124mtrack_id\u001b[39m\u001b[38;5;124m'\u001b[39m]\u001b[38;5;241m.\u001b[39mvalues:\n\u001b[1;32m----> 5\u001b[0m         tracks_info \u001b[38;5;241m=\u001b[39m \u001b[43msp\u001b[49m\u001b[38;5;241;43m.\u001b[39;49m\u001b[43mtracks\u001b[49m\u001b[43m(\u001b[49m\u001b[43mtrack_ids\u001b[49m\u001b[43m)\u001b[49m\n\u001b[0;32m      6\u001b[0m         \u001b[38;5;28;01mfor\u001b[39;00m track_info \u001b[38;5;129;01min\u001b[39;00m tracks_info[\u001b[38;5;124m'\u001b[39m\u001b[38;5;124mtracks\u001b[39m\u001b[38;5;124m'\u001b[39m]:\n\u001b[0;32m      7\u001b[0m             \u001b[38;5;28mid\u001b[39m \u001b[38;5;241m=\u001b[39m track_info[\u001b[38;5;124m'\u001b[39m\u001b[38;5;124mid\u001b[39m\u001b[38;5;124m'\u001b[39m]\n",
      "File \u001b[1;32m~\\AppData\\Local\\Packages\\PythonSoftwareFoundation.Python.3.11_qbz5n2kfra8p0\\LocalCache\\local-packages\\Python311\\site-packages\\spotipy\\client.py:386\u001b[0m, in \u001b[0;36mSpotify.tracks\u001b[1;34m(self, tracks, market)\u001b[0m\n\u001b[0;32m    378\u001b[0m \u001b[38;5;250m\u001b[39m\u001b[38;5;124;03m\"\"\" returns a list of tracks given a list of track IDs, URIs, or URLs\u001b[39;00m\n\u001b[0;32m    379\u001b[0m \n\u001b[0;32m    380\u001b[0m \u001b[38;5;124;03m    Parameters:\u001b[39;00m\n\u001b[0;32m    381\u001b[0m \u001b[38;5;124;03m        - tracks - a list of spotify URIs, URLs or IDs. Maximum: 50 IDs.\u001b[39;00m\n\u001b[0;32m    382\u001b[0m \u001b[38;5;124;03m        - market - an ISO 3166-1 alpha-2 country code.\u001b[39;00m\n\u001b[0;32m    383\u001b[0m \u001b[38;5;124;03m\"\"\"\u001b[39;00m\n\u001b[0;32m    385\u001b[0m tlist \u001b[38;5;241m=\u001b[39m [\u001b[38;5;28mself\u001b[39m\u001b[38;5;241m.\u001b[39m_get_id(\u001b[38;5;124m\"\u001b[39m\u001b[38;5;124mtrack\u001b[39m\u001b[38;5;124m\"\u001b[39m, t) \u001b[38;5;28;01mfor\u001b[39;00m t \u001b[38;5;129;01min\u001b[39;00m tracks]\n\u001b[1;32m--> 386\u001b[0m \u001b[38;5;28;01mreturn\u001b[39;00m \u001b[38;5;28;43mself\u001b[39;49m\u001b[38;5;241;43m.\u001b[39;49m\u001b[43m_get\u001b[49m\u001b[43m(\u001b[49m\u001b[38;5;124;43m\"\u001b[39;49m\u001b[38;5;124;43mtracks/?ids=\u001b[39;49m\u001b[38;5;124;43m\"\u001b[39;49m\u001b[43m \u001b[49m\u001b[38;5;241;43m+\u001b[39;49m\u001b[43m \u001b[49m\u001b[38;5;124;43m\"\u001b[39;49m\u001b[38;5;124;43m,\u001b[39;49m\u001b[38;5;124;43m\"\u001b[39;49m\u001b[38;5;241;43m.\u001b[39;49m\u001b[43mjoin\u001b[49m\u001b[43m(\u001b[49m\u001b[43mtlist\u001b[49m\u001b[43m)\u001b[49m\u001b[43m,\u001b[49m\u001b[43m \u001b[49m\u001b[43mmarket\u001b[49m\u001b[38;5;241;43m=\u001b[39;49m\u001b[43mmarket\u001b[49m\u001b[43m)\u001b[49m\n",
      "File \u001b[1;32m~\\AppData\\Local\\Packages\\PythonSoftwareFoundation.Python.3.11_qbz5n2kfra8p0\\LocalCache\\local-packages\\Python311\\site-packages\\spotipy\\client.py:327\u001b[0m, in \u001b[0;36mSpotify._get\u001b[1;34m(self, url, args, payload, **kwargs)\u001b[0m\n\u001b[0;32m    324\u001b[0m \u001b[38;5;28;01mif\u001b[39;00m args:\n\u001b[0;32m    325\u001b[0m     kwargs\u001b[38;5;241m.\u001b[39mupdate(args)\n\u001b[1;32m--> 327\u001b[0m \u001b[38;5;28;01mreturn\u001b[39;00m \u001b[38;5;28;43mself\u001b[39;49m\u001b[38;5;241;43m.\u001b[39;49m\u001b[43m_internal_call\u001b[49m\u001b[43m(\u001b[49m\u001b[38;5;124;43m\"\u001b[39;49m\u001b[38;5;124;43mGET\u001b[39;49m\u001b[38;5;124;43m\"\u001b[39;49m\u001b[43m,\u001b[49m\u001b[43m \u001b[49m\u001b[43murl\u001b[49m\u001b[43m,\u001b[49m\u001b[43m \u001b[49m\u001b[43mpayload\u001b[49m\u001b[43m,\u001b[49m\u001b[43m \u001b[49m\u001b[43mkwargs\u001b[49m\u001b[43m)\u001b[49m\n",
      "File \u001b[1;32m~\\AppData\\Local\\Packages\\PythonSoftwareFoundation.Python.3.11_qbz5n2kfra8p0\\LocalCache\\local-packages\\Python311\\site-packages\\spotipy\\client.py:297\u001b[0m, in \u001b[0;36mSpotify._internal_call\u001b[1;34m(self, method, url, payload, params)\u001b[0m\n\u001b[0;32m    290\u001b[0m         reason \u001b[38;5;241m=\u001b[39m \u001b[38;5;28;01mNone\u001b[39;00m\n\u001b[0;32m    292\u001b[0m     logger\u001b[38;5;241m.\u001b[39merror(\n\u001b[0;32m    293\u001b[0m         \u001b[38;5;124m'\u001b[39m\u001b[38;5;124mHTTP Error for \u001b[39m\u001b[38;5;132;01m%s\u001b[39;00m\u001b[38;5;124m to \u001b[39m\u001b[38;5;132;01m%s\u001b[39;00m\u001b[38;5;124m with Params: \u001b[39m\u001b[38;5;132;01m%s\u001b[39;00m\u001b[38;5;124m returned \u001b[39m\u001b[38;5;132;01m%s\u001b[39;00m\u001b[38;5;124m due to \u001b[39m\u001b[38;5;132;01m%s\u001b[39;00m\u001b[38;5;124m'\u001b[39m,\n\u001b[0;32m    294\u001b[0m         method, url, args\u001b[38;5;241m.\u001b[39mget(\u001b[38;5;124m\"\u001b[39m\u001b[38;5;124mparams\u001b[39m\u001b[38;5;124m\"\u001b[39m), response\u001b[38;5;241m.\u001b[39mstatus_code, msg\n\u001b[0;32m    295\u001b[0m     )\n\u001b[1;32m--> 297\u001b[0m     \u001b[38;5;28;01mraise\u001b[39;00m SpotifyException(\n\u001b[0;32m    298\u001b[0m         response\u001b[38;5;241m.\u001b[39mstatus_code,\n\u001b[0;32m    299\u001b[0m         \u001b[38;5;241m-\u001b[39m\u001b[38;5;241m1\u001b[39m,\n\u001b[0;32m    300\u001b[0m         \u001b[38;5;124mf\u001b[39m\u001b[38;5;124m\"\u001b[39m\u001b[38;5;132;01m{\u001b[39;00mresponse\u001b[38;5;241m.\u001b[39murl\u001b[38;5;132;01m}\u001b[39;00m\u001b[38;5;124m:\u001b[39m\u001b[38;5;130;01m\\n\u001b[39;00m\u001b[38;5;124m \u001b[39m\u001b[38;5;132;01m{\u001b[39;00mmsg\u001b[38;5;132;01m}\u001b[39;00m\u001b[38;5;124m\"\u001b[39m,\n\u001b[0;32m    301\u001b[0m         reason\u001b[38;5;241m=\u001b[39mreason,\n\u001b[0;32m    302\u001b[0m         headers\u001b[38;5;241m=\u001b[39mresponse\u001b[38;5;241m.\u001b[39mheaders,\n\u001b[0;32m    303\u001b[0m     )\n\u001b[0;32m    304\u001b[0m \u001b[38;5;28;01mexcept\u001b[39;00m requests\u001b[38;5;241m.\u001b[39mexceptions\u001b[38;5;241m.\u001b[39mRetryError \u001b[38;5;28;01mas\u001b[39;00m retry_error:\n\u001b[0;32m    305\u001b[0m     request \u001b[38;5;241m=\u001b[39m retry_error\u001b[38;5;241m.\u001b[39mrequest\n",
      "\u001b[1;31mSpotifyException\u001b[0m: http status: 414, code:-1 - https://api.spotify.com/v1/tracks/?ids=3F5CgOj3wFlRv51JsHbxhe,2BcMwX1MPV6ZHP4tUT9uq6,3CA9pLiwRIGtUBiMjbZmRw,2tUL6dZf1mywCj5WvCPZw6,6c5wQFfJApRMooKE7UQnlH,4Q34FP1AT7GEl9oLgNtiWj,0WtDGnWL2KrMCk0mI1Gpwz,4ckuS4Nj4FZ7i3Def3Br8W,2t8yVaLvJ0RenpXUIAC52d,65OVbaJR5O1RmwOQx0875b,6HJ34Zyw6bg8yGm28AxLXf,5ry2OE6R2zPQFDO85XkgRb,4vzJrkfHbCGaodPA5RY5BV,1ITpqT1kDATCtMBwOK7sYn,0w6webWdhjRKdqJ3DeGgM1,5FkoSXiJPKTNyYgALRJFhD,40iJIUlhi6renaREYGeIDS,6MF4tRr5lU8qok8IKaFOBE,3QFInJAm9eyaho5vBzxInN,577YBGuskWkVDCxZrLRB4v,11kDth1aKUEUMq9r1pqyds,0TlLq3lA83rQOYtrqBqSct,3qN5qMTKyEEmiTZD38BNTT,1dUHF4RyMmMTveJ0Rby6Xm,2zxEc1GCSCxbHIXTfhraRC,2Grb4G6t9VIqo6moKUloom,3mDFLytDotXo2p0rvfGbkA,1bDbXMyjaUIooNwFE9wn0N,34tz0eDhGuFErIuW3q4mPX,7sO5G9EABYOXQKNPNiE9NR,6nO3tr47nr2P7f3hXb8JIo,6OaVWaGfhXn70ZJfdVcabn,02rdXe0KhMe8p6ZHzYtuw0,420ZJ2hWsQv7i8IuER1e9e,4F6yN5FsFW10Ucx7cLCzBh,6pcywuOeGGWeOQzdUyti6k,2BJSMvOGABRxokHKB0OI8i,6Hmc5Afutf4hcrjnBYNidS,7rC5Pl8rQSX4myONQHYPBK,3ESSGgWzRf1xvP7G5hHMhB,4KW1lqgSr8TKrvBII0Brf8,5QO79kh1waicV47BqGRL3g,09mEdoA6zrmBPgTEN5qXmN,7MXVkk9YMctZqd1Srtv4MB,0VjIjW4GlUZAMYd2vXMi3b,6LNoArVBBVZzUTUiAX2aKO,4G9K8NVdInl16lnn5EbJLZ,1p0rEzrK7YtdRZVtiyV7RN,0OoNzMdPSgbkM5MkcuEZfm,2dHHgzDwk4BJdRwy9uXhTO,1pacwLXyRO47ka0v6LTIiY,2KLwPaRDOB87XOYAT2fgxh,6eT7xZZlB2mwyzJ2sUKG6w,7xQAfvXzm3AkraOtGPWIZg,4F7A0DXBrmUAkp32uenhZt,1Is8hGpkGMiePASAxBluxM,2Yt4SXIgmoaPZHGdRafp4P,27a1mYSG5tYg7dmEjWBcmL,2cYqizR4lgvp4Qu6IQ3qGN,4R67rQNSbbsR4TdUVOIdez,5u6vkDnOyaf8LsteDAj2ub,6LyAwkJsHlW7RQ8S1cYAtM,0AluA5RNsa4Cx6XRhf2hWZ,2wOXxtHZgRkkrkEbKLzzqs,1UyLFPOIG7E1OfamPQLOfD,4IO8X9W69dIQe0EC5ALXhq,45pUWUeEWGoSdH6UF162G8,2ZL7WZcjuYKi1KUDtp4kCC,1udwFobQ1JoOdWPQrp2b6u,7wBJfHzpfI3032CSD7CE2m,2QgfDF0fQ4sskDthP8MG5w,1qMMYpVatbRITKCfq1gasi,6SPgp2qK3fb4wPX1SldrNf,5QrmygpdyE3IbrZzJsZ4uj,1Scp8ar1dnJOaSVEMIiB80,5LKIZ4UTKebSE5VFbLSQnr,67LB1vZuG114LqRN8h8bQ2,5nujrmhLynf4yMoMtj8AQF,7foypmc7KZyU716Yv63BPe,5bJ1DrEM4hNCafcDd1oxHx,4WuOWVnAqvEQxgSRrspBgt,2Hh3ETdQKrmSI3QS0hme7g,7g7raxdQpiLZT7aOlib4S1,4kfeRwpq5KUaqTkgi4TbDF,3Uoy2lrZdhocMWO0jIdjAp,6QeUzTuBoasiii8nevDciq,6wWaVoUOzLQJHd3bWAUpdZ,1fvCggAYrW0VtCljtqv4h2,2xLMifQCjDGFmkHkpNLD9h,4iYRa2btalAzPZoSYfROqF,1D2L6MefbXon28PzIk9I3r,0AyA2lHB4YnQUNa8Y6NNjm,61FfbHfk4qT8ZzNA5dqN9j,5MPPttjfGap2C6j6eKcO6J,0e7ipj03S05BNilyu5bRzt,6HZILIRieu8S0iqY8kIKhj,2xB46Bj9HZ4cr058yN4Pla,2QpGZOhTCHHiKmpSO9FW4h,36ux3YuUsGTWPT8fXclS45,19a3JfW8BQwqHWUMbcqSx8,37F0uwRSrdzkBiuj0D5UHI,2Ch7LmS7r2Gy2kc64wv3Bz,7KA4W4McWYRpgf0fWsJZWB,3s7MCdXyWmwjdcWh7GWXas,65TggCitjPK0sUXtwgOkN9,01IQ4aQgOf0Kkq3a273hmO,0FWAIRd9Uz5uNek7cALYNC,22agj1ppHejR41cUyf7k6v,1D3z6HTiQsNmZxjl7F7eoG,79XrkTOfV1AqySNjVlygpW,3drdWsJKiVCSQ2gKhd9BDT,472sPrS8UznsEnzi9bFrBo,2LMkwUfqC6S6s6qDVlEuzV,1nX9KhK3Fff27SnrIor2Yb,3WcC6NH9J77xPEvj1SOL7z,28qA8y1sz0FTuSapsCxNOG,2Zy7XVdxyZQB8xp5xbpJdl,3azJifCSqg9fRij2yKIbWz,0s9xZDmDtrZKvgXVNJl5VS,1au2UduxcvHfa0fZS3Szci,4iz9lGMjU1lXS51oPmUmTe,5TRPicyLGbAF2LGBFbHGvO,5wG3HvLhF6Y5KTGlK0IW3J,6w9GrSUaQQIaMBYtabge7p,1EaKU4dMbesXXd3BrLCtYG,08F16baYbciTva9P4BvpiI,2g6tReTlM2Akp41g0HaeXN,6NMtzpDQBTOfJwMzgMX0zl,1nbYiPgDJ4T3t46Is5Zc26,2qzW5AK8ldKUOWUETwAkZY,0kmxWw7KjktV4V1ZpbOeru,2FDTHlrBguDzQkp7PVj16Q,2cnKST6T9qUo2i907lm8zX,6cZH4rX1KTt1aJ3Ql6Ynja,733c1CWmIGymoQXdp7Us88,2ZRo7axmMPeSVUvDbGkJah,2or3FdRKWK4RcgncaU09p3,2dJ4rGtsOHOgvTQawsCRtg,3dtBVBClM5ms0qCBBrqpUb,6CfrYuD3YRDYdYvH9jNtXY,343YBumqHu19cGoGARUTsd,67nepsnrcZkowTxMWigSbb,6wsqVwoiVH2kde4k4KKAFU,0lodMO0qK83vfPiiD7FMEt,0bkV1iQHSxBaksUqgEkcbc,1PH2MDbcBAU094DlgTIND1,1EJIcDYXwSqipW5dFe4uJz,0MjZNhlOfIxZz34uwCqHv5,76gcXhY3Zv6wW0BTe9nHJo,1o0kWPueYo94LIjPYOE5Nf,19px0LYNwmvyh0QDPE9qHu,0CBQ0m3mufWH75LTYB3s6h,4ea9w8c4ROqiZpJVhfBA3m,1pfwOQKJsRRBf6NdYO4Qog,78X9D3v7OarDPNdTPUV4CQ,1UGD3lW3tDmgZfAVDh6w7r,29YW2xXlo6Pc6M0SBTCXYN,2HALQBSAvpw1oCzL5QsrT2,34oWbFBfGEElvgO0a5c9V4,7dJYggqjKo71KI9sLzqCs8,1DAibqbopEYULPEtE8WHTE,7aqfrAY2p9BUSiupwk3svU,156LzfvMNKuXuiot4uzhGD,7kp6XhIxrvNb8BgTwLjaEx,11BbPUv7NlzlcbY7AmHHKy,5WnfnSpuNEGXyEt78PBA6d,1WIZiOuNO3woKfdlSK2gNn,3CDVMejYHnB1SkEEx0T1N4,5WoaF1B5XIEnWfmb5NZikf,4yLyVdEqV790aIXyGif85v,52eIcoLUM25zbQupAZYoFh,0shSP8DgseLewHgAiMC4UL,2yUzr8Sr6ldG8vmHhZwTnz,3KixNgUEaDtrKJVzdqjU5q,7DHNcoR73yUYCSn6PqBgkH,6rjuKpPydT2SxN15TZpV7r,00n83h3zn2IrySO4Q4aTrG,6wyhUr4Xw8z5uSy0AhoZfU,6tsVFchreYTt2OPXSOoFCX,4lUmnwRybYH7mMzf16xB0y,62nb5YUYUqtYJhVPwRhCke,1EXRmdtTA2IEnYGiuw9plD,5LghBGmNUUwI2BvX2boIdK,4cEqoGTqPRZy76Yl3ymj3V,6vG3Zv9VEA6YbJPJ6ar5Y7,42k9e2hgl98IdgkXLg4pxs,7szuecWAPwGoV1e5vGu8tl,0tdCy39PgWN8LFWu34ORn3,0hKtu53OlIFXVuYkZwcn3o,3OxL6MuctgZp1e0zxoAZhH,1yfKakY4rvI17lk20ekuRA,2cH8wHImerFokgmhjyhCTU,1GeNui6m825V8jP4uKiIaH,1Py8c3dkLF0YczcAyBFBEM,4W9XGjEUVG9junR70FOLii,1IIKrJVP1C9N7iPtG6eOsK,4cg1yakyRSIOjxKM2I7J1q,2i2qDe3dnTl6maUE31FO7c,5lFDtgWsjRJu8fPOAyJIAK,3WRIaWsws011vHMd9uzPjG:\n None, reason: None"
     ]
    }
   ],
   "source": [
    "playlist_audio_data = []\n",
    "artist_genres = {}\n",
    "for id in track_ids:\n",
    "    if id not in df['track_id'].values:\n",
    "        #Check out .tracks from spotipy\n",
    "        track_audio_features = sp.audio_features(id);\n",
    "        track_info = sp.track(id)\n",
    "        artists = [artist['name'] for artist in track_info['artists']]\n",
    "        artist_genre = artist_genres.get(artists[0], get_artist_genre(artists[0]))\n",
    "        artist_genres[artists[0]] = artist_genre\n",
    "    \n",
    "        album_name = track_info['album']['name']\n",
    "        track_name = track_info['name']\n",
    "\n",
    "        audio_features_keys = ['danceability', 'energy', 'key', 'loudness', 'mode', 'speechiness', 'acousticness', 'instrumentalness', 'liveness', 'valence', 'tempo', 'time_signature']\n",
    "\n",
    "        audio_data = {\n",
    "            'track_id': id,\n",
    "            'artists': ';'.join(artists),\n",
    "            'album_name': track_info['album']['name'],\n",
    "            'track_name': track_info['name'],\n",
    "            'popularity': track_info['popularity'],\n",
    "            'duration_ms': track_info['duration_ms'],\n",
    "            'explicit': track_info['explicit'],\n",
    "            **{key: track_audio_features[0][key] for key in audio_features_keys},\n",
    "            'track_genre': artist_genre\n",
    "        }\n",
    "        print(audio_data)"
   ]
  },
  {
   "cell_type": "code",
   "execution_count": null,
   "metadata": {},
   "outputs": [],
   "source": [
    "artist_genre = artist_genres.get(artists[0], get_artist_genre(artists[0]))\n",
    "artist_genres[artists[0]] = artist_genre"
   ]
  }
 ],
 "metadata": {
  "kernelspec": {
   "display_name": "Python 3",
   "language": "python",
   "name": "python3"
  },
  "language_info": {
   "codemirror_mode": {
    "name": "ipython",
    "version": 3
   },
   "file_extension": ".py",
   "mimetype": "text/x-python",
   "name": "python",
   "nbconvert_exporter": "python",
   "pygments_lexer": "ipython3",
   "version": "3.11.9"
  }
 },
 "nbformat": 4,
 "nbformat_minor": 2
}
