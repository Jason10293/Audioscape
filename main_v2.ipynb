{
 "cells": [
  {
   "cell_type": "code",
   "execution_count": 16,
   "metadata": {},
   "outputs": [],
   "source": [
    "import spotipy\n",
    "from spotipy.oauth2 import SpotifyOAuth\n",
    "from Secrets import CLIENT_ID, CLIENT_SECRET, REDIRECT_URL\n",
    "import pandas as pd\n",
    "import numpy as np\n",
    "from sklearn.preprocessing import MinMaxScaler\n",
    "import matplotlib.pyplot as plt"
   ]
  },
  {
   "cell_type": "code",
   "execution_count": 17,
   "metadata": {},
   "outputs": [],
   "source": [
    "sp = spotipy.Spotify(auth_manager=SpotifyOAuth(client_id=CLIENT_ID,\n",
    "                                               client_secret=CLIENT_SECRET,\n",
    "                                               redirect_uri=REDIRECT_URL,\n",
    "                                               scope=\"user-library-read\"))\n",
    "\n",
    "df = pd.read_csv('./dataset.csv')\n",
    "df = df[df.columns[1:]]\n",
    "pd.set_option('display.max_rows',500)\n",
    "pd.set_option('display.max_columns',504)\n",
    "pd.set_option('display.width',1000)\n"
   ]
  },
  {
   "cell_type": "code",
   "execution_count": 18,
   "metadata": {},
   "outputs": [],
   "source": [
    "#6meRpNHvKC1VcBl5MIbVxo - hehe\n",
    "#1Ob3QykC4dzf3rQwWxE9LV - study\n",
    "\n",
    "\n",
    "playlist_id = '6meRpNHvKC1VcBl5MIbVxo'\n",
    "playlist_length = sp.playlist_items(playlist_id)['total']\n",
    "\n",
    "track_ids = []\n",
    "for i in range(playlist_length // 100 + 1):\n",
    "    playlist = sp.playlist_tracks(playlist_id, market = 'CAN',fields='items', limit=100, offset = i * 100 )\n",
    "    for track in playlist['items']:\n",
    "        if track['track'] is not None and track['track']['id'] is not None:\n",
    "            track_ids.append(track['track']['id'])\n"
   ]
  },
  {
   "cell_type": "code",
   "execution_count": 19,
   "metadata": {},
   "outputs": [],
   "source": [
    "def get_artist_genre(artist_id):\n",
    "    artist = sp.artist(artist_id)\n",
    "    if artist['genres']:\n",
    "        return artist['genres'][0]\n",
    "    return None\n"
   ]
  },
  {
   "cell_type": "code",
   "execution_count": 20,
   "metadata": {},
   "outputs": [],
   "source": [
    "playlist_audio_data = []\n",
    "artist_genres = {}\n",
    "track_ids = set(track_ids)\n",
    "df_track_ids = set(df['track_id'].values)\n",
    "\n",
    "#Track ids that we need to add to the dataset\n",
    "missing_track_ids = list(track_ids.difference(df_track_ids))"
   ]
  },
  {
   "cell_type": "code",
   "execution_count": 21,
   "metadata": {},
   "outputs": [],
   "source": [
    "#Fetching missing track info from the Spotify API\n",
    "missing_track_audio_features = []\n",
    "count = 0\n",
    "for i in range(0,len(missing_track_ids), 100):\n",
    "    missing_track_audio_features.extend(sp.audio_features(tracks = missing_track_ids[i : i + 100]))\n",
    "\n",
    "missing_track_info = []\n",
    "for i in range(0, len(missing_track_ids), 50):\n",
    "    missing_track_info.extend(sp.tracks(missing_track_ids[i : i + 50])['tracks'])"
   ]
  },
  {
   "cell_type": "code",
   "execution_count": 22,
   "metadata": {},
   "outputs": [],
   "source": [
    "#Processing audio features and info for each track in the playlist\n",
    "track_audio_features = [feature for feature in missing_track_audio_features]\n",
    "track_info = [info for info in missing_track_info]\n",
    "track_artist_ids = [info['artists'][0]['id'] for info in missing_track_info]"
   ]
  },
  {
   "cell_type": "code",
   "execution_count": 23,
   "metadata": {},
   "outputs": [],
   "source": [
    "#Fetching artist Genres\n",
    "for i in range(0, len(track_artist_ids), 50):\n",
    "    results = sp.artists(track_artist_ids[i: i + 50])\n",
    "    for artist in results['artists']:\n",
    "        artist_genres[artist['name']] = artist_genres.get(artist['name'], artist['genres'][0] if artist['genres'] else None)"
   ]
  },
  {
   "cell_type": "code",
   "execution_count": 24,
   "metadata": {},
   "outputs": [],
   "source": [
    "#Processing and adding the audio features to the dataset\n",
    "for index ,id in enumerate(missing_track_ids):\n",
    "    track_artists = [artist['name'] for artist in track_info[index]['artists']]\n",
    "    main_artist_genre = artist_genres[track_artists[0]]\n",
    "    audio_features_keys = ['danceability', 'energy', 'key', 'loudness', 'mode', 'speechiness', 'acousticness', 'instrumentalness', 'liveness', 'valence', 'tempo', 'time_signature']\n",
    "    audio_data = {\n",
    "        'track_id': id,\n",
    "        'artists': ';'.join(track_artists),\n",
    "        'album_name': track_info[index]['album']['name'],\n",
    "        'track_name': track_info[index]['name'],\n",
    "        'popularity': track_info[index]['popularity'],\n",
    "        'duration_ms': track_info[index]['duration_ms'],\n",
    "        'explicit': track_info[index]['explicit'],\n",
    "        **{key: track_audio_features[index][key] for key in audio_features_keys},\n",
    "        'track_genre': main_artist_genre\n",
    "    }\n",
    "    df.loc[len(df.index)] = audio_data"
   ]
  },
  {
   "cell_type": "markdown",
   "metadata": {},
   "source": [
    "## Feature Engineering"
   ]
  },
  {
   "cell_type": "code",
   "execution_count": 25,
   "metadata": {},
   "outputs": [],
   "source": [
    "scaler = MinMaxScaler()\n",
    "features_to_scale = ['popularity','danceability', 'energy', 'loudness', 'speechiness', 'acousticness', 'instrumentalness', 'liveness', 'valence', 'time_signature']\n",
    "df[features_to_scale] = scaler.fit_transform(df[features_to_scale])"
   ]
  },
  {
   "cell_type": "code",
   "execution_count": 26,
   "metadata": {},
   "outputs": [],
   "source": [
    "#Binary Feature for is_major for mode (1 -> Major 0 -> Minor)\n",
    "#Tempo Buckets (0 - 100, 100 - 125,125 - 150,150+) ✔\n",
    "#Key Profiles OHE ✔"
   ]
  },
  {
   "cell_type": "code",
   "execution_count": 27,
   "metadata": {},
   "outputs": [
    {
     "name": "stdout",
     "output_type": "stream",
     "text": [
      "                 track_id                 artists                                         album_name                  track_name  popularity  duration_ms  explicit  danceability  energy  loudness  mode  speechiness  acousticness  instrumentalness  liveness   valence    tempo  time_signature track_genre  key_1  key_2  key_3  key_4  key_5  key_6  key_7  key_8  key_9  key_10  key_11\n",
      "0  5SuOikwiRyPMVoIQDJUgSV             Gen Hoshino                                             Comedy                      Comedy        0.73       230666     False      0.686294  0.4610  0.791392     0     0.148187      0.032329          0.000001    0.3580  0.718593   87.917             0.8    acoustic      1      0      0      0      0      0      0      0      0       0       0\n",
      "1  4qPNDBW1i3p13qLCt0Ki3A            Ben Woodward                                   Ghost (Acoustic)            Ghost - Acoustic        0.55       149610     False      0.426396  0.1660  0.597377     1     0.079067      0.927711          0.000006    0.1010  0.268342   77.489             0.8    acoustic      1      0      0      0      0      0      0      0      0       0       0\n",
      "2  1iJBSr7s7jYXzM8EGcbK5b  Ingrid Michaelson;ZAYN                                     To Begin Again              To Begin Again        0.57       210826     False      0.444670  0.3590  0.736123     1     0.057720      0.210843          0.000000    0.1170  0.120603   76.332             0.8    acoustic      0      0      0      0      0      0      0      0      0       0       0\n",
      "3  6lfxq3CG4xtTiEg7opyCyx            Kina Grannis  Crazy Rich Asians (Original Motion Picture Sou...  Can't Help Falling In Love        0.71       201933     False      0.270051  0.0596  0.573701     1     0.037617      0.908635          0.000071    0.1320  0.143719  181.740             0.6    acoustic      0      0      0      0      0      0      0      0      0       0       0\n",
      "4  5vjLSffimiIP26QG5WcN2K        Chord Overstreet                                            Hold On                     Hold On        0.82       198853     False      0.627411  0.4430  0.737103     1     0.054508      0.470884          0.000000    0.0829  0.167839  119.949             0.8    acoustic      0      1      0      0      0      0      0      0      0       0       0\n"
     ]
    }
   ],
   "source": [
    "#OHE for Keys\n",
    "OHE = pd.get_dummies(df['key'], drop_first=True, dtype=int, prefix=\"key\")\n",
    "df = df.drop(columns='key', axis = 'columns')\n",
    "df = pd.concat([df, OHE], axis = 1)\n",
    "print(df.head())"
   ]
  },
  {
   "cell_type": "markdown",
   "metadata": {},
   "source": []
  },
  {
   "cell_type": "code",
   "execution_count": 28,
   "metadata": {},
   "outputs": [
    {
     "name": "stdout",
     "output_type": "stream",
     "text": [
      "                 track_id                 artists                                         album_name                  track_name  popularity  duration_ms  explicit  danceability  energy  loudness  mode  speechiness  acousticness  instrumentalness  liveness   valence      tempo  time_signature track_genre  key_1  key_2  key_3  key_4  key_5  key_6  key_7  key_8  key_9  key_10  key_11\n",
      "0  5SuOikwiRyPMVoIQDJUgSV             Gen Hoshino                                             Comedy                      Comedy        0.73       230666     False      0.686294  0.4610  0.791392     0     0.148187      0.032329          0.000001    0.3580  0.718593       Slow             0.8    acoustic      1      0      0      0      0      0      0      0      0       0       0\n",
      "1  4qPNDBW1i3p13qLCt0Ki3A            Ben Woodward                                   Ghost (Acoustic)            Ghost - Acoustic        0.55       149610     False      0.426396  0.1660  0.597377     1     0.079067      0.927711          0.000006    0.1010  0.268342       Slow             0.8    acoustic      1      0      0      0      0      0      0      0      0       0       0\n",
      "2  1iJBSr7s7jYXzM8EGcbK5b  Ingrid Michaelson;ZAYN                                     To Begin Again              To Begin Again        0.57       210826     False      0.444670  0.3590  0.736123     1     0.057720      0.210843          0.000000    0.1170  0.120603       Slow             0.8    acoustic      0      0      0      0      0      0      0      0      0       0       0\n",
      "3  6lfxq3CG4xtTiEg7opyCyx            Kina Grannis  Crazy Rich Asians (Original Motion Picture Sou...  Can't Help Falling In Love        0.71       201933     False      0.270051  0.0596  0.573701     1     0.037617      0.908635          0.000071    0.1320  0.143719  Very Fast             0.6    acoustic      0      0      0      0      0      0      0      0      0       0       0\n",
      "4  5vjLSffimiIP26QG5WcN2K        Chord Overstreet                                            Hold On                     Hold On        0.82       198853     False      0.627411  0.4430  0.737103     1     0.054508      0.470884          0.000000    0.0829  0.167839   Moderate             0.8    acoustic      0      1      0      0      0      0      0      0      0       0       0\n"
     ]
    }
   ],
   "source": [
    "#Creating buckets for tempo\n",
    "bins = [0,100,125,150,500]\n",
    "df['tempo'] = pd.cut(df['tempo'], bins, right = False, labels = ['Slow', 'Moderate','Fast','Very Fast'])\n",
    "print(df.head())"
   ]
  },
  {
   "cell_type": "code",
   "execution_count": 30,
   "metadata": {},
   "outputs": [
    {
     "name": "stdout",
     "output_type": "stream",
     "text": [
      "                 track_id                 artists                                         album_name                  track_name  popularity  duration_ms  explicit  danceability  energy  loudness   mode  speechiness  acousticness  instrumentalness  liveness   valence      tempo  time_signature track_genre  key_1  key_2  key_3  key_4  key_5  key_6  key_7  key_8  key_9  key_10  key_11\n",
      "0  5SuOikwiRyPMVoIQDJUgSV             Gen Hoshino                                             Comedy                      Comedy        0.73       230666     False      0.686294  0.4610  0.791392  minor     0.148187      0.032329          0.000001    0.3580  0.718593       Slow             0.8    acoustic      1      0      0      0      0      0      0      0      0       0       0\n",
      "1  4qPNDBW1i3p13qLCt0Ki3A            Ben Woodward                                   Ghost (Acoustic)            Ghost - Acoustic        0.55       149610     False      0.426396  0.1660  0.597377  major     0.079067      0.927711          0.000006    0.1010  0.268342       Slow             0.8    acoustic      1      0      0      0      0      0      0      0      0       0       0\n",
      "2  1iJBSr7s7jYXzM8EGcbK5b  Ingrid Michaelson;ZAYN                                     To Begin Again              To Begin Again        0.57       210826     False      0.444670  0.3590  0.736123  major     0.057720      0.210843          0.000000    0.1170  0.120603       Slow             0.8    acoustic      0      0      0      0      0      0      0      0      0       0       0\n",
      "3  6lfxq3CG4xtTiEg7opyCyx            Kina Grannis  Crazy Rich Asians (Original Motion Picture Sou...  Can't Help Falling In Love        0.71       201933     False      0.270051  0.0596  0.573701  major     0.037617      0.908635          0.000071    0.1320  0.143719  Very Fast             0.6    acoustic      0      0      0      0      0      0      0      0      0       0       0\n",
      "4  5vjLSffimiIP26QG5WcN2K        Chord Overstreet                                            Hold On                     Hold On        0.82       198853     False      0.627411  0.4430  0.737103  major     0.054508      0.470884          0.000000    0.0829  0.167839   Moderate             0.8    acoustic      0      1      0      0      0      0      0      0      0       0       0\n"
     ]
    }
   ],
   "source": [
    "df['mode'] = df['mode'].map({1: 'major', 0: 'minor'})\n",
    "print(df.head())"
   ]
  }
 ],
 "metadata": {
  "kernelspec": {
   "display_name": "Python 3",
   "language": "python",
   "name": "python3"
  },
  "language_info": {
   "codemirror_mode": {
    "name": "ipython",
    "version": 3
   },
   "file_extension": ".py",
   "mimetype": "text/x-python",
   "name": "python",
   "nbconvert_exporter": "python",
   "pygments_lexer": "ipython3",
   "version": "3.11.9"
  }
 },
 "nbformat": 4,
 "nbformat_minor": 2
}
