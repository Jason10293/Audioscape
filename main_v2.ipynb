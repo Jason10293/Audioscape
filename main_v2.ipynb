{
 "cells": [
  {
   "cell_type": "code",
   "execution_count": 1,
   "metadata": {},
   "outputs": [],
   "source": [
    "import spotipy\n",
    "from spotipy.oauth2 import SpotifyOAuth\n",
    "from Secrets import CLIENT_ID, CLIENT_SECRET, REDIRECT_URL\n",
    "import pandas as pd\n",
    "import numpy as np\n",
    "from sklearn.cluster import KMeans\n",
    "import matplotlib.pyplot as plt"
   ]
  },
  {
   "cell_type": "code",
   "execution_count": 2,
   "metadata": {},
   "outputs": [],
   "source": [
    "sp = spotipy.Spotify(auth_manager=SpotifyOAuth(client_id=CLIENT_ID,\n",
    "                                               client_secret=CLIENT_SECRET,\n",
    "                                               redirect_uri=REDIRECT_URL,\n",
    "                                               scope=\"user-library-read\"))\n",
    "\n",
    "df = pd.read_csv('./dataset.csv')\n"
   ]
  },
  {
   "cell_type": "code",
   "execution_count": 3,
   "metadata": {},
   "outputs": [],
   "source": [
    "#6meRpNHvKC1VcBl5MIbVxo - hehe\n",
    "#1Ob3QykC4dzf3rQwWxE9LV - study\n",
    "\n",
    "\n",
    "playlist_id = '6meRpNHvKC1VcBl5MIbVxo'\n",
    "playlist_length = sp.playlist_items(playlist_id)['total']\n",
    "\n",
    "track_ids = []\n",
    "for i in range(playlist_length // 100 + 1):\n",
    "    playlist = sp.playlist_tracks(playlist_id, market = 'CAN',fields='items', limit=100, offset = i * 100 )\n",
    "    for track in playlist['items']:\n",
    "        if track['track'] is not None and track['track']['id'] is not None:\n",
    "            track_ids.append(track['track']['id'])\n"
   ]
  },
  {
   "cell_type": "code",
   "execution_count": 4,
   "metadata": {},
   "outputs": [],
   "source": [
    "def get_artist_genre(artist_id):\n",
    "    artist = sp.artist(artist_id)\n",
    "    if artist['genres']:\n",
    "        return artist['genres'][0]\n",
    "    return None\n"
   ]
  },
  {
   "cell_type": "code",
   "execution_count": 45,
   "metadata": {},
   "outputs": [
    {
     "name": "stdout",
     "output_type": "stream",
     "text": [
      "0\n",
      "1\n",
      "2\n",
      "3\n",
      "4\n",
      "[]\n"
     ]
    }
   ],
   "source": [
    "playlist_audio_data = []\n",
    "artist_genres = {}\n",
    "track_ids = set(track_ids)\n",
    "df_track_ids = set(df['track_id'].values)\n",
    "\n",
    "#Track ids that we need to add to the dataset\n",
    "missing_track_ids = list(track_ids.difference(df_track_ids))\n",
    "\n",
    "\n",
    "missing_track_audio_features = []\n",
    "count = 0\n",
    "for i in range(0,len(missing_track_ids), 100):\n",
    "    missing_track_audio_features.extend(sp.audio_features(tracks = missing_track_ids[i : i + 100]))\n",
    "\n",
    "missing_track_info = []\n",
    "count = 0\n",
    "for i in range(0, len(missing_track_ids), 50):\n",
    "    missing_track_info.extend(sp.tracks(missing_track_ids[i : i + 50])['tracks'])\n",
    "\n",
    "track_audio_features = [feature for feature in missing_track_audio_features]\n",
    "track_info = [info for info in missing_track_info]\n",
    "track_artist_ids = [info['artists'][0]['id'] for info in missing_track_info]\n",
    "\n",
    "count = 0\n",
    "for i in range(0, len(track_artist_ids), 50):\n",
    "    results = sp.artists(track_artist_ids[i: i + 50])\n",
    "    for artist in results['artists']:\n",
    "        artist_genres[artist['id']] = artist_genres.get(artist['id'], artist['genres'][0] if artist['genres'] else None)\n",
    "\n",
    "# print(artist_genres)\n",
    "print(track_info)\n",
    "for index ,id in enumerate(missing_track_ids):\n",
    "    album_name = track_info[index]['name']\n",
    "    print(album)\n",
    "#     album_name = track_info['album']['name']\n",
    "#     print(album_name)\n",
    "    # track_name = track_info['name']\n",
    "    # track_artists = track_info['artists']\n",
    "    # audio_features_keys = ['danceability', 'energy', 'key', 'loudness', 'mode', 'speechiness', 'acousticness', 'instrumentalness', 'liveness', 'valence', 'tempo', 'time_signature']\n",
    "    # audio_data = {\n",
    "    #     'track_id': id,\n",
    "    #     'artists': ';'.join(track_artists),\n",
    "    #     'album_name': track_info['album']['name'],\n",
    "    #     'track_name': track_info['name'],\n",
    "    #     'popularity': track_info['popularity'],\n",
    "    #     'duration_ms': track_info['duration_ms'],\n",
    "    #     'explicit': track_info['explicit'],\n",
    "    #     **{key: track_audio_features[0][key] for key in audio_features_keys},\n",
    "    #     'track_genre': main_artist_genre\n",
    "    # }\n",
    "    # print(audio_data)\n"
   ]
  },
  {
   "cell_type": "code",
   "execution_count": null,
   "metadata": {},
   "outputs": [],
   "source": [
    "artist_genre = artist_genres.get(artists[0], get_artist_genre(artists[0]))\n",
    "artist_genres[artists[0]] = artist_genre"
   ]
  }
 ],
 "metadata": {
  "kernelspec": {
   "display_name": "Python 3",
   "language": "python",
   "name": "python3"
  },
  "language_info": {
   "codemirror_mode": {
    "name": "ipython",
    "version": 3
   },
   "file_extension": ".py",
   "mimetype": "text/x-python",
   "name": "python",
   "nbconvert_exporter": "python",
   "pygments_lexer": "ipython3",
   "version": "3.11.9"
  }
 },
 "nbformat": 4,
 "nbformat_minor": 2
}
