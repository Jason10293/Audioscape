{
 "cells": [
  {
   "cell_type": "code",
   "execution_count": 1,
   "metadata": {},
   "outputs": [],
   "source": [
    "import spotipy\n",
    "from spotipy.oauth2 import SpotifyOAuth\n",
    "from Secrets import CLIENT_ID, CLIENT_SECRET, REDIRECT_URL\n",
    "import pandas as pd\n",
    "import numpy as np\n",
    "from sklearn.preprocessing import MinMaxScaler\n",
    "from dateutil.relativedelta import relativedelta\n",
    "from sklearn.metrics.pairwise import cosine_similarity\n",
    "from sklearn.feature_extraction.text import TfidfVectorizer"
   ]
  },
  {
   "cell_type": "code",
   "execution_count": 2,
   "metadata": {},
   "outputs": [],
   "source": [
    "# Initialize the Spotify client with OAuth for accessing user library\n",
    "sp = spotipy.Spotify(auth_manager=SpotifyOAuth(client_id=CLIENT_ID,\n",
    "                                               client_secret=CLIENT_SECRET,\n",
    "                                               redirect_uri=REDIRECT_URL,\n",
    "                                               scope=\"user-library-read\"))\n",
    "\n",
    "df = pd.read_csv('./dataset.csv')\n",
    "df = df[df.columns[1:]]\n",
    "df = df.drop(columns=['time_signature', 'duration_ms'])\n",
    "\n",
    "pd.set_option('display.max_rows',500)\n",
    "pd.set_option('display.max_columns',504)\n",
    "pd.set_option('display.width',1000)\n"
   ]
  },
  {
   "cell_type": "markdown",
   "metadata": {},
   "source": [
    "## Feature Engineering"
   ]
  },
  {
   "cell_type": "code",
   "execution_count": 3,
   "metadata": {},
   "outputs": [],
   "source": [
    "def feature_engineer(df):\n",
    "    scaler = MinMaxScaler()\n",
    "    \n",
    "    features_to_scale = ['danceability', 'energy', 'loudness', 'speechiness', 'acousticness', 'instrumentalness', 'liveness', 'valence']\n",
    "    features_to_OHE = ['key', 'explicit', 'popularity']\n",
    "    \n",
    "    tfidf = TfidfVectorizer()\n",
    "\n",
    "    #tfidf cannot handle null values\n",
    "    df['track_genre'] = df['track_genre'].ffill()\n",
    "    tfidf_matrix = tfidf.fit_transform(df['track_genre'])\n",
    "    \n",
    "    genre_df = pd.DataFrame(tfidf_matrix.toarray())\n",
    "    genre_df.columns = ['genre_' + i for i in tfidf.get_feature_names_out()]\n",
    "    # Reset index of genre_df to allow for clean concatenation later\n",
    "    genre_df.reset_index(drop = True, inplace=True)\n",
    "\n",
    "    #scale numerical features\n",
    "    df[features_to_scale] = scaler.fit_transform(df[features_to_scale])\n",
    "    \n",
    "    def perform_OHE(df, column):\n",
    "        OHE = pd.get_dummies(df[column], drop_first=True, dtype=int, prefix=column)\n",
    "        df = df.drop(columns=column, axis='columns')\n",
    "        df = pd.concat([df, OHE], axis=1)\n",
    "        return df\n",
    "\n",
    "    #Seperate popularity into 20 buckets -> OHE the popularity\n",
    "    df['popularity'] = df['popularity'].apply(lambda x: x//5)\n",
    "\n",
    "    for feature in features_to_OHE:\n",
    "        df = perform_OHE(df, feature)\n",
    "\n",
    "    #Combine the main df and the genre_df from the tfidf\n",
    "    df = pd.concat([df, genre_df], axis=1)\n",
    "    df = df.drop(columns=['track_genre'], axis = 'columns')\n",
    "    return df"
   ]
  },
  {
   "cell_type": "code",
   "execution_count": 4,
   "metadata": {},
   "outputs": [],
   "source": [
    "#6meRpNHvKC1VcBl5MIbVxo - hehe\n",
    "#1Ob3QykC4dzf3rQwWxE9LV - study\n",
    "#2dxVgP67xqsTCTfaVed4E0 - test\n",
    "\n",
    "playlist_id = '6meRpNHvKC1VcBl5MIbVxo'\n",
    "playlist_length = sp.playlist_items(playlist_id)['total']\n",
    "\n",
    "track_ids = []\n",
    "date_added = {} #Tracks when a song was added to a playlist\n",
    "\n",
    "#sp.playlist_track has a limit of 100 items per API call\n",
    "for i in range(playlist_length // 100 + 1):\n",
    "    playlist = sp.playlist_tracks(playlist_id, market = 'CAN',fields='items', limit=100, offset = i * 100 )\n",
    "    #playlist[items] has information on all the tracks in the playlist\n",
    "    for index, track in enumerate(playlist['items']):\n",
    "        if track['track'] is not None and track['track']['id'] is not None:\n",
    "            date_added[track['track']['id']] = playlist['items'][index]['added_at']\n",
    "            track_ids.append(track['track']['id'])"
   ]
  },
  {
   "cell_type": "code",
   "execution_count": 5,
   "metadata": {},
   "outputs": [],
   "source": [
    "artist_genres = {}\n",
    "\n",
    "playlist_track_audio_features = []\n",
    "\n",
    "#\n",
    "for i in range(0,len(track_ids), 100):\n",
    "    playlist_track_audio_features.extend(sp.audio_features(track_ids[i : i + 100]))\n",
    "\n",
    "playlist_track_info = []\n",
    "for i in range(0, len(track_ids), 50):\n",
    "    playlist_track_info.extend(sp.tracks(track_ids[i : i + 50])['tracks'])"
   ]
  },
  {
   "cell_type": "code",
   "execution_count": 6,
   "metadata": {},
   "outputs": [],
   "source": [
    "track_audio_features = [audio_feature for audio_feature in playlist_track_audio_features]\n",
    "track_info = [info for info in playlist_track_info]\n",
    "track_artist_ids = [info['artists'][0]['id'] for info in playlist_track_info]"
   ]
  },
  {
   "cell_type": "code",
   "execution_count": 7,
   "metadata": {},
   "outputs": [],
   "source": [
    "\n",
    "for i in range(0, len(track_artist_ids), 50):\n",
    "    results = sp.artists(track_artist_ids[i: i + 50])\n",
    "    for artist in results['artists']:\n",
    "        #Only get the first (main) genre from an artist as artist's have multiple genres\n",
    "        artist_genres[artist['name']] = artist_genres.get(artist['name'], artist['genres'][0] if artist['genres'] else None)"
   ]
  },
  {
   "cell_type": "code",
   "execution_count": 8,
   "metadata": {},
   "outputs": [],
   "source": [
    "for index ,id in enumerate(track_ids):\n",
    "    track_artists = [artist['name'] for artist in track_info[index]['artists']]\n",
    "    main_artist_genre = artist_genres[track_artists[0]]\n",
    "    audio_features_keys = ['danceability', 'energy', 'key', 'loudness', 'mode', 'speechiness', 'acousticness', 'instrumentalness', 'liveness', 'valence', 'tempo']\n",
    "    audio_data = {\n",
    "        'track_id': id,\n",
    "        'artists': ';'.join(track_artists),\n",
    "        'album_name': track_info[index]['album']['name'],\n",
    "        'track_name': track_info[index]['name'],\n",
    "        'popularity': track_info[index]['popularity'],\n",
    "        'explicit': track_info[index]['explicit'],\n",
    "        **{key: track_audio_features[index][key] for key in audio_features_keys},\n",
    "        'track_genre': main_artist_genre\n",
    "    }\n",
    "    df.loc[len(df.index)] = audio_data"
   ]
  },
  {
   "cell_type": "code",
   "execution_count": 9,
   "metadata": {},
   "outputs": [],
   "source": [
    "df = feature_engineer(df)"
   ]
  },
  {
   "cell_type": "code",
   "execution_count": 10,
   "metadata": {},
   "outputs": [],
   "source": [
    "track_data = df.tail(playlist_length - 1).copy()\n",
    "df = df.iloc[:-playlist_length - 1]\n",
    "track_data['date_added'] = date_added.values()\n"
   ]
  },
  {
   "cell_type": "code",
   "execution_count": 11,
   "metadata": {},
   "outputs": [],
   "source": [
    "# Assuming track_data is already defined and feature_engineered\n",
    "track_data = pd.DataFrame(track_data)\n",
    "track_data['date_added'] = pd.to_datetime(track_data['date_added']).dt.date\n",
    "first_date = track_data.iloc[0]['date_added']\n",
    "last_date = track_data.iloc[-1]['date_added']\n",
    "\n",
    "# Calculate total months difference for normalization\n",
    "total_months = relativedelta(last_date, first_date).months + 1\n",
    "\n",
    "# Calculate weights using linear descent\n",
    "weights = []\n",
    "for index, row in track_data.iterrows():\n",
    "    months_difference = relativedelta(row['date_added'], first_date).months\n",
    "    # Linear descent weighting\n",
    "    weights.append(round(1/(months_difference + 1), 3))\n",
    "\n",
    "track_data['weight'] = weights\n",
    "track_data = track_data.drop(columns=['date_added'])\n"
   ]
  },
  {
   "cell_type": "code",
   "execution_count": 12,
   "metadata": {},
   "outputs": [],
   "source": [
    "start_index = 0\n",
    "end_index = 1\n",
    "num_rows = len(track_data.values)\n",
    "num_cols = len(track_data.columns)\n",
    "results_array = [0] * (num_cols - 5)\n",
    "for i in range(num_rows):\n",
    "    row = track_data.iloc[i]\n",
    "    row_weight = track_data.iloc[i, -1]\n",
    "    for index, value in enumerate(row[4:-1]):\n",
    "        results_array[index] += value * row_weight\n"
   ]
  },
  {
   "cell_type": "code",
   "execution_count": 13,
   "metadata": {},
   "outputs": [],
   "source": [
    "vectors = df.iloc[:, 4:].values\n",
    "input_vector = np.array(results_array)\n",
    "similarity_matrix = cosine_similarity(input_vector.reshape(1,-1), vectors)\n",
    "\n",
    "similarity_array = similarity_matrix.flatten()"
   ]
  },
  {
   "cell_type": "code",
   "execution_count": 14,
   "metadata": {},
   "outputs": [],
   "source": [
    "top_20_songs = set()\n",
    "counter = 0\n",
    "while len(top_20_songs) < 20:\n",
    "    ith_most_similar_index = similarity_array.argsort()[::-1][counter]\n",
    "    track_name = df.iloc[ith_most_similar_index]['track_name']\n",
    "    artist = df.iloc[ith_most_similar_index]['artists']\n",
    "    top_20_songs.add(track_name + \" | \" + artist)\n",
    "    counter += 1"
   ]
  },
  {
   "cell_type": "code",
   "execution_count": 15,
   "metadata": {},
   "outputs": [
    {
     "name": "stdout",
     "output_type": "stream",
     "text": [
      "Se Menea | Don Omar;Nio Garcia\n",
      "Solid | Burna Boy;Blxst;Kehlani\n",
      "Usain Boo | Kodak Black\n",
      "Pursuit Of Happiness - Extended Steve Aoki Remix | Kid Cudi;MGMT;Ratatat;Steve Aoki\n",
      "Clout | Offset;Cardi B\n",
      "Your Turn | Ty Dolla $ign;Musiq Soulchild;Tish Hyman;6LACK\n",
      "Real Life | Burna Boy;Stormzy\n",
      "WORKIN ME | Quavo\n",
      "RAP DEVIL | Machine Gun Kelly\n",
      "Banking on Me | Gunna\n",
      "Polo Jeans | Mac Miller;Earl Sweatshirt\n",
      "Save You | Kodak Black\n",
      "Me and Klik | Kodak Black;John Wicks;Jackboy\n",
      "Ball If I Want To | DaBaby\n",
      "bloody valentine | Machine Gun Kelly\n",
      "Codeine Dreaming | Kodak Black;Lil Wayne\n",
      "Gave It | Moneybagg Yo;Big Homiie G\n",
      "Bezerk | Big Sean;Hit-Boy;A$AP Ferg\n",
      "Perreito | Mariah Angeliq\n",
      "Grrrls | Lizzo\n"
     ]
    }
   ],
   "source": [
    "for track in top_20_songs:\n",
    "    print(track)"
   ]
  }
 ],
 "metadata": {
  "kernelspec": {
   "display_name": "Python 3",
   "language": "python",
   "name": "python3"
  },
  "language_info": {
   "codemirror_mode": {
    "name": "ipython",
    "version": 3
   },
   "file_extension": ".py",
   "mimetype": "text/x-python",
   "name": "python",
   "nbconvert_exporter": "python",
   "pygments_lexer": "ipython3",
   "version": "3.11.9"
  }
 },
 "nbformat": 4,
 "nbformat_minor": 2
}
