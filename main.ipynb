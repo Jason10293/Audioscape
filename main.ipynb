{
 "cells": [
  {
   "cell_type": "code",
   "execution_count": 2,
   "metadata": {},
   "outputs": [],
   "source": [
    "import spotipy\n",
    "from spotipy.oauth2 import SpotifyOAuth\n",
    "from Secrets import CLIENT_ID, CLIENT_SECRET, REDIRECT_URL\n",
    "import pandas as pd\n",
    "import chromadb\n",
    "import numpy as np\n",
    "import random       \n",
    "\n",
    "sp = spotipy.Spotify(auth_manager=SpotifyOAuth(client_id=CLIENT_ID,\n",
    "                                               client_secret=CLIENT_SECRET,\n",
    "                                               redirect_uri=REDIRECT_URL,\n",
    "                                               scope=\"user-library-read\"))\n",
    "\n",
    "chroma_client = chromadb.Client()\n",
    "collection = chroma_client.get_or_create_collection(name=\"spotify_data\")"
   ]
  },
  {
   "cell_type": "code",
   "execution_count": 3,
   "metadata": {},
   "outputs": [],
   "source": [
    "playlist = sp.playlist_tracks('1Ob3QykC4dzf3rQwWxE9LV', market = 'CAN',fields='items' )\n",
    "track_ids = []\n",
    "for track in playlist['items']:\n",
    "    if track['track'] is not None and track['track']['id'] is not None:\n",
    "        track_ids.append(track['track']['id'])\n",
    "\n",
    "for id in track_ids:\n",
    "    all_audio_data = list(sp.audio_features(id)[0].values())\n",
    "    audio_features = all_audio_data[:11] + all_audio_data[-1:]"
   ]
  },
  {
   "cell_type": "code",
   "execution_count": null,
   "metadata": {},
   "outputs": [],
   "source": [
    "df = pd.read_csv('./dataset.csv')\n",
    "# print(df.head())\n",
    "df = df.drop(['artists', 'album_name', 'track_name', 'popularity', 'explicit', 'duration_ms', 'track_genre'], axis='columns')\n",
    "df = df[df.columns[1:]]\n",
    "\n",
    "# Convert DataFrame to a list of dictionaries\n",
    "df_audio_data = df.values.tolist()\n",
    "for i in range(len(df_audio_data)):\n",
    "    print(i)\n",
    "    collection.upsert(embeddings=df_audio_data[i][1:], ids=df_audio_data[i][0])\n",
    "\n",
    "\n",
    "results = collection.query(query_embeddings=audio_features, n_results=4)\n",
    "print(results)"
   ]
  }
 ],
 "metadata": {
  "kernelspec": {
   "display_name": "Python 3",
   "language": "python",
   "name": "python3"
  },
  "language_info": {
   "codemirror_mode": {
    "name": "ipython",
    "version": 3
   },
   "file_extension": ".py",
   "mimetype": "text/x-python",
   "name": "python",
   "nbconvert_exporter": "python",
   "pygments_lexer": "ipython3",
   "version": "3.11.9"
  }
 },
 "nbformat": 4,
 "nbformat_minor": 2
}
